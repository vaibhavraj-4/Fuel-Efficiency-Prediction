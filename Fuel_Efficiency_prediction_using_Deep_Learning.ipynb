{
 "cells": [
  {
   "cell_type": "markdown",
   "metadata": {
    "colab_type": "text",
    "id": "view-in-github"
   },
   "source": [
    "<a href=\"https://colab.research.google.com/github/shivarajloni/Fuel-Efficiency-prediction-using-Deep-Learning/blob/master/Fuel_Efficiency_prediction_using_Deep_Learning.ipynb\" target=\"_parent\"><img src=\"https://colab.research.google.com/assets/colab-badge.svg\" alt=\"Open In Colab\"/></a>"
   ]
  },
  {
   "cell_type": "code",
   "execution_count": null,
   "metadata": {
    "id": "N01UQonfjaf9"
   },
   "outputs": [],
   "source": [
    "import tensorflow as tf\n",
    "import pandas as pd\n",
    "import matplotlib.pyplot as plt\n",
    "import seaborn as sns\n",
    "import numpy as np\n",
    "import sklearn\n",
    "import pickle\n",
    "from tensorflow.keras.models import Sequential\n",
    "from tensorflow.keras.layers import Activation,Dense\n",
    "from sklearn.metrics import mean_squared_error, r2_score \n",
    "%matplotlib inline"
   ]
  },
  {
   "cell_type": "code",
   "execution_count": null,
   "metadata": {
    "id": "oUJWHaVtleoo"
   },
   "outputs": [],
   "source": [
    "df=pd.read_csv(r'/content/Fuel Efficiency/Dataset.txt',na_values='?')"
   ]
  },
  {
   "cell_type": "code",
   "execution_count": null,
   "metadata": {
    "colab": {
     "base_uri": "https://localhost:8080/",
     "height": 677
    },
    "id": "3wMd5g_gwj68",
    "outputId": "7c7fe81f-397a-493a-d06b-c3776ac951df"
   },
   "outputs": [],
   "source": [
    "df"
   ]
  },
  {
   "cell_type": "code",
   "execution_count": null,
   "metadata": {
    "id": "pIOWuLpLwu-Y"
   },
   "outputs": [],
   "source": [
    "# EDA"
   ]
  },
  {
   "cell_type": "code",
   "execution_count": null,
   "metadata": {
    "colab": {
     "base_uri": "https://localhost:8080/"
    },
    "id": "Nq8PyIH5w7CN",
    "outputId": "4ae7f27b-4293-4849-f974-2447ee849c99"
   },
   "outputs": [],
   "source": [
    "df.info()"
   ]
  },
  {
   "cell_type": "code",
   "execution_count": null,
   "metadata": {
    "colab": {
     "base_uri": "https://localhost:8080/"
    },
    "id": "xwAtf73bxHcn",
    "outputId": "0947a3a0-144f-49f2-e84d-3e9d5c7b3797"
   },
   "outputs": [],
   "source": [
    "df.isnull().sum()"
   ]
  },
  {
   "cell_type": "code",
   "execution_count": null,
   "metadata": {
    "id": "Ok1bhf7LlE8N"
   },
   "outputs": [],
   "source": [
    "df.dropna(axis=0,inplace=True)"
   ]
  },
  {
   "cell_type": "code",
   "execution_count": null,
   "metadata": {
    "colab": {
     "base_uri": "https://localhost:8080/",
     "height": 317
    },
    "id": "XaNpO_JuxU4F",
    "outputId": "1b429687-f651-4faa-c189-c00fc2f96d03"
   },
   "outputs": [],
   "source": [
    "df.describe()"
   ]
  },
  {
   "cell_type": "code",
   "execution_count": null,
   "metadata": {
    "colab": {
     "base_uri": "https://localhost:8080/"
    },
    "id": "qrC3b7K8xZfo",
    "outputId": "41348986-4039-4487-d48c-f059e828effc"
   },
   "outputs": [],
   "source": [
    "df['car name'].unique()"
   ]
  },
  {
   "cell_type": "code",
   "execution_count": null,
   "metadata": {
    "id": "PWKjHN2zxzlw"
   },
   "outputs": [],
   "source": [
    "df.drop(['car name'],axis=1,inplace=True)"
   ]
  },
  {
   "cell_type": "code",
   "execution_count": null,
   "metadata": {
    "colab": {
     "base_uri": "https://localhost:8080/",
     "height": 439
    },
    "id": "At-JQlpCyte6",
    "outputId": "a8752837-e67f-40c7-dc28-a6d78d76e138"
   },
   "outputs": [],
   "source": [
    "df"
   ]
  },
  {
   "cell_type": "code",
   "execution_count": null,
   "metadata": {
    "colab": {
     "base_uri": "https://localhost:8080/",
     "height": 333
    },
    "id": "bhLFvFomzO1q",
    "outputId": "d621cdf5-23b5-4b65-9993-fb1c9a72aadb"
   },
   "outputs": [],
   "source": [
    "sns.scatterplot(df['horsepower'], df['cylinders'])\n",
    "plt.show()"
   ]
  },
  {
   "cell_type": "code",
   "execution_count": null,
   "metadata": {
    "colab": {
     "base_uri": "https://localhost:8080/",
     "height": 333
    },
    "id": "HcJK_eQ02Jeh",
    "outputId": "2f7dbce6-7ca7-4025-8125-a51a0f8efb19"
   },
   "outputs": [],
   "source": [
    "sns.scatterplot(df['horsepower'], df['mpg'])\n",
    "plt.show()"
   ]
  },
  {
   "cell_type": "markdown",
   "metadata": {
    "id": "MLswyMmly8-E"
   },
   "source": [
    "# Splitting the data into Training and Test"
   ]
  },
  {
   "cell_type": "code",
   "execution_count": null,
   "metadata": {
    "id": "A9mzmD4ly0WP"
   },
   "outputs": [],
   "source": [
    "X=df.drop(\"mpg\",axis=1)\n",
    "Y=df['mpg']"
   ]
  },
  {
   "cell_type": "code",
   "execution_count": null,
   "metadata": {
    "colab": {
     "base_uri": "https://localhost:8080/",
     "height": 204
    },
    "id": "GlYZ9X6w7vPF",
    "outputId": "e2aa6f1f-e8e9-41df-dc28-7e7e6b5a3d18"
   },
   "outputs": [],
   "source": [
    "X.head()"
   ]
  },
  {
   "cell_type": "code",
   "execution_count": null,
   "metadata": {
    "colab": {
     "base_uri": "https://localhost:8080/"
    },
    "id": "HIzs5x-97yh9",
    "outputId": "55b4433b-b897-4072-d0e8-c08381baba86"
   },
   "outputs": [],
   "source": [
    "Y"
   ]
  },
  {
   "cell_type": "code",
   "execution_count": null,
   "metadata": {
    "id": "7wCQ7MPRc1IL"
   },
   "outputs": [],
   "source": [
    "from sklearn.model_selection import train_test_split"
   ]
  },
  {
   "cell_type": "code",
   "execution_count": null,
   "metadata": {
    "id": "sJLkRHu7RvqW"
   },
   "outputs": [],
   "source": [
    "X_train, X_test, Y_train, Y_test=train_test_split(X,Y,test_size=0.3,random_state=101)"
   ]
  },
  {
   "cell_type": "code",
   "execution_count": null,
   "metadata": {
    "colab": {
     "base_uri": "https://localhost:8080/",
     "height": 224
    },
    "id": "me6tvw4fd2An",
    "outputId": "db2770ff-4eb5-4429-aa11-c65ee8a5c0da"
   },
   "outputs": [],
   "source": [
    "X_train.head()"
   ]
  },
  {
   "cell_type": "code",
   "execution_count": null,
   "metadata": {
    "colab": {
     "base_uri": "https://localhost:8080/"
    },
    "id": "f_CBJw-0eCOZ",
    "outputId": "9aae9e02-30d3-4e96-8d42-34dc07bbbc49"
   },
   "outputs": [],
   "source": [
    "Y_train.head()"
   ]
  },
  {
   "cell_type": "code",
   "execution_count": null,
   "metadata": {
    "colab": {
     "base_uri": "https://localhost:8080/",
     "height": 224
    },
    "id": "4QLedjy3einL",
    "outputId": "cbbf1003-e6b8-4d48-82af-e980d791ed57"
   },
   "outputs": [],
   "source": [
    "X_test.head()\n"
   ]
  },
  {
   "cell_type": "code",
   "execution_count": null,
   "metadata": {
    "id": "y3mQewTlh71x"
   },
   "outputs": [],
   "source": [
    "\n"
   ]
  },
  {
   "cell_type": "code",
   "execution_count": null,
   "metadata": {
    "id": "iZji21u-i5XB"
   },
   "outputs": [],
   "source": []
  },
  {
   "cell_type": "markdown",
   "metadata": {
    "id": "WmQ1WDaMi58v"
   },
   "source": [
    "Standard scalar"
   ]
  },
  {
   "cell_type": "code",
   "execution_count": null,
   "metadata": {
    "id": "11_gK4SzjeWc"
   },
   "outputs": [],
   "source": [
    "from sklearn.preprocessing import StandardScaler\n",
    "sc=StandardScaler()"
   ]
  },
  {
   "cell_type": "code",
   "execution_count": null,
   "metadata": {
    "id": "ve66cKz9joNG"
   },
   "outputs": [],
   "source": [
    "X_train_std=sc.fit_transform(X_train)\n",
    "X_test_std=sc.transform(X_test)"
   ]
  },
  {
   "cell_type": "code",
   "execution_count": null,
   "metadata": {
    "colab": {
     "base_uri": "https://localhost:8080/"
    },
    "id": "CJWDjqPRkShw",
    "outputId": "b40aed55-67ce-4923-ced0-6305396cfad9"
   },
   "outputs": [],
   "source": [
    "X_train_std"
   ]
  },
  {
   "cell_type": "code",
   "execution_count": null,
   "metadata": {
    "colab": {
     "base_uri": "https://localhost:8080/"
    },
    "id": "NitLJXGclh8U",
    "outputId": "713b800c-1d8a-4762-89fe-81542b3ebfa2"
   },
   "outputs": [],
   "source": [
    "X_test_std"
   ]
  },
  {
   "cell_type": "code",
   "execution_count": null,
   "metadata": {
    "id": "JyLnUXG2oadf"
   },
   "outputs": [],
   "source": [
    "pickle.dump(sc,open('/content/Fuel Efficiency/scaler.pkl','wb'))"
   ]
  },
  {
   "cell_type": "markdown",
   "metadata": {
    "id": "cJMWdPdkoiJ1"
   },
   "source": [
    "Build the Model and Train"
   ]
  },
  {
   "cell_type": "code",
   "execution_count": null,
   "metadata": {
    "colab": {
     "base_uri": "https://localhost:8080/"
    },
    "id": "Qg2WyQnws1IJ",
    "outputId": "14aa28b8-1007-4866-a3e1-bee74f3a0fac"
   },
   "outputs": [],
   "source": [
    "len(X_train.keys())"
   ]
  },
  {
   "cell_type": "code",
   "execution_count": null,
   "metadata": {
    "colab": {
     "base_uri": "https://localhost:8080/"
    },
    "id": "OoN3xzCrszhc",
    "outputId": "2df9c63a-befd-4eae-d8a7-425da996c166"
   },
   "outputs": [],
   "source": [
    "X_train.keys()"
   ]
  },
  {
   "cell_type": "code",
   "execution_count": null,
   "metadata": {
    "id": "v8rD_4ndog9Q"
   },
   "outputs": [],
   "source": [
    "# Initialising the ANN\n",
    "model= Sequential()\n",
    "\n",
    "# Adding the input layer\n",
    "model.add(Dense(units=64,activation='relu',input_shape=[7]))\n",
    "# model.add(Dense(units=64,activation='relu',input_shape=[len(X_train.keys())]))\n",
    "\n",
    "# Adding the second hidden layer\n",
    "model.add(Dense(units=64,activation='relu'))\n",
    "\n",
    "# Adding the 3rd hidden layer\n",
    "model.add(Dense(units=64,activation='relu'))\n",
    "\n",
    "# Adding the output layer\n",
    "model.add(Dense(units=1))"
   ]
  },
  {
   "cell_type": "markdown",
   "metadata": {
    "id": "g07-lijjts-l"
   },
   "source": [
    "Compiling the ANN"
   ]
  },
  {
   "cell_type": "code",
   "execution_count": null,
   "metadata": {
    "id": "jRrfvYcpswvr"
   },
   "outputs": [],
   "source": [
    "model.compile(loss='mean_squared_error',optimizer='Adam',metrics=['mean_squared_error','mean_absolute_error'])"
   ]
  },
  {
   "cell_type": "code",
   "execution_count": null,
   "metadata": {
    "colab": {
     "base_uri": "https://localhost:8080/"
    },
    "id": "7Dq9ZjQRuLsb",
    "outputId": "734aa48b-e8ad-471c-849b-16ec6f9eacad"
   },
   "outputs": [],
   "source": [
    "model.summary()"
   ]
  },
  {
   "cell_type": "markdown",
   "metadata": {
    "id": "7KxmNO-muiyy"
   },
   "source": [
    "Training the Model"
   ]
  },
  {
   "cell_type": "code",
   "execution_count": null,
   "metadata": {
    "colab": {
     "base_uri": "https://localhost:8080/"
    },
    "id": "Tbvl0vUZuQOp",
    "outputId": "e5e133da-5015-4d1d-c71d-ff48e8fd6991"
   },
   "outputs": [],
   "source": [
    "model.fit(X_train_std,Y_train,batch_size=100,epochs=1000)"
   ]
  },
  {
   "cell_type": "code",
   "execution_count": null,
   "metadata": {
    "colab": {
     "base_uri": "https://localhost:8080/"
    },
    "id": "maoTuNncwIGB",
    "outputId": "9d510f1a-3cdf-4441-c5ef-d4480c722ba0"
   },
   "outputs": [],
   "source": [
    "mae=model.evaluate(X_train_std,Y_train)"
   ]
  },
  {
   "cell_type": "code",
   "execution_count": null,
   "metadata": {
    "colab": {
     "base_uri": "https://localhost:8080/"
    },
    "id": "E5FYJ15xxtFo",
    "outputId": "c9b22d52-74c5-42b7-b6d8-751831f047a7"
   },
   "outputs": [],
   "source": [
    "model.evaluate(X_test_std,Y_test)"
   ]
  },
  {
   "cell_type": "code",
   "execution_count": null,
   "metadata": {
    "id": "zgr7FOcPyAJk"
   },
   "outputs": [],
   "source": [
    "prediction=model.predict(X_test_std)"
   ]
  },
  {
   "cell_type": "code",
   "execution_count": null,
   "metadata": {
    "colab": {
     "base_uri": "https://localhost:8080/"
    },
    "id": "m3eX-_sDyQek",
    "outputId": "984de617-97ec-4aa1-e510-50f24de29a43"
   },
   "outputs": [],
   "source": [
    "# Actual data\n",
    "Y_test"
   ]
  },
  {
   "cell_type": "code",
   "execution_count": null,
   "metadata": {
    "colab": {
     "base_uri": "https://localhost:8080/"
    },
    "id": "4v6mSLnoyUp5",
    "outputId": "d383ab49-ee78-4faf-cc69-78ad95d39110"
   },
   "outputs": [],
   "source": [
    "prediction"
   ]
  },
  {
   "cell_type": "code",
   "execution_count": null,
   "metadata": {
    "id": "wgU0DGgbzBy6"
   },
   "outputs": [],
   "source": [
    "from sklearn.metrics import mean_squared_error"
   ]
  },
  {
   "cell_type": "code",
   "execution_count": null,
   "metadata": {
    "id": "zm9goUSHylr7"
   },
   "outputs": [],
   "source": [
    "rmse=np.sqrt(mean_squared_error(Y_test,prediction))"
   ]
  },
  {
   "cell_type": "code",
   "execution_count": null,
   "metadata": {
    "colab": {
     "base_uri": "https://localhost:8080/"
    },
    "id": "4SNFnflfzPSQ",
    "outputId": "8bf64f95-6338-4b06-c7e0-5e4ed56a875b"
   },
   "outputs": [],
   "source": [
    "rmse"
   ]
  },
  {
   "cell_type": "code",
   "execution_count": null,
   "metadata": {
    "colab": {
     "base_uri": "https://localhost:8080/"
    },
    "id": "IW2rBjDozSQH",
    "outputId": "4dd3f1af-079d-4164-f922-599b33dbe53a"
   },
   "outputs": [],
   "source": [
    "print(r2_score(Y_test,prediction))"
   ]
  },
  {
   "cell_type": "code",
   "execution_count": null,
   "metadata": {
    "colab": {
     "base_uri": "https://localhost:8080/",
     "height": 265
    },
    "id": "CY0sge-U3xbT",
    "outputId": "f5ff4593-60ea-46fc-8a75-1cf7ad8e2e67"
   },
   "outputs": [],
   "source": [
    "plt.scatter(Y_test,prediction)\n",
    "plt.show()"
   ]
  },
  {
   "cell_type": "code",
   "execution_count": null,
   "metadata": {
    "colab": {
     "base_uri": "https://localhost:8080/"
    },
    "id": "ZY7jWf0A5Njg",
    "outputId": "9f5c73e9-3d62-4e12-c1e9-db15394f5ae2"
   },
   "outputs": [],
   "source": [
    "test_prediction=model.predict(X_test_std).flatten()\n",
    "test_prediction"
   ]
  },
  {
   "cell_type": "code",
   "execution_count": null,
   "metadata": {
    "colab": {
     "base_uri": "https://localhost:8080/",
     "height": 279
    },
    "id": "aEySPz7r4Oxg",
    "outputId": "cf274759-3dc2-40e9-c500-e3592234400e"
   },
   "outputs": [],
   "source": [
    "\n",
    "plt.scatter(Y_test,test_prediction)\n",
    "plt.xlabel(\"True Values\")\n",
    "plt.ylabel(\"Predictions\")\n",
    "plt.xlim([0,plt.xlim()[1]])\n",
    "plt.ylim([0,plt.ylim()[1]])\n",
    "_=plt.plot([-100,100],[-100,100])"
   ]
  },
  {
   "cell_type": "code",
   "execution_count": null,
   "metadata": {
    "id": "MLCRfFRK4141"
   },
   "outputs": [],
   "source": [
    "# predicting on a single value\n"
   ]
  },
  {
   "cell_type": "code",
   "execution_count": null,
   "metadata": {
    "colab": {
     "base_uri": "https://localhost:8080/"
    },
    "id": "ww-XdRO56D2h",
    "outputId": "6948153a-9569-47f7-af6e-6941f8275e1b"
   },
   "outputs": [],
   "source": [
    "list1=[[8,350,165,3693,11.5,70,1]]\n",
    "list1=sc.transform(list1)\n",
    "list1"
   ]
  },
  {
   "cell_type": "code",
   "execution_count": null,
   "metadata": {
    "id": "XUOh4ODd52np"
   },
   "outputs": [],
   "source": [
    "prediction2=model.predict(list1)"
   ]
  },
  {
   "cell_type": "code",
   "execution_count": null,
   "metadata": {
    "colab": {
     "base_uri": "https://localhost:8080/"
    },
    "id": "CrUJBAeZ6q4P",
    "outputId": "59d9252b-614d-474e-d8ba-b8eaa1f55fee"
   },
   "outputs": [],
   "source": [
    "prediction2"
   ]
  },
  {
   "cell_type": "code",
   "execution_count": null,
   "metadata": {
    "colab": {
     "base_uri": "https://localhost:8080/"
    },
    "id": "Athj1s_66taO",
    "outputId": "1fcee456-2196-4a21-b94f-9467295881fc"
   },
   "outputs": [],
   "source": [
    "float(prediction2)"
   ]
  },
  {
   "cell_type": "code",
   "execution_count": null,
   "metadata": {
    "colab": {
     "base_uri": "https://localhost:8080/"
    },
    "id": "XX6pKtL46zqf",
    "outputId": "708d5311-09bb-4b1b-bb85-57f721acaf67"
   },
   "outputs": [],
   "source": [
    "int(prediction2)"
   ]
  },
  {
   "cell_type": "code",
   "execution_count": null,
   "metadata": {
    "colab": {
     "base_uri": "https://localhost:8080/"
    },
    "id": "ikigL56x62R9",
    "outputId": "3137bcb1-f4bb-408c-b205-34f9ea8605d5"
   },
   "outputs": [],
   "source": [
    "list2=[[8,318,150,3436,11,70,1]]\n",
    "list2=sc.transform(list2)\n",
    "list2"
   ]
  },
  {
   "cell_type": "code",
   "execution_count": null,
   "metadata": {
    "id": "b6d1Y1pe7JgV"
   },
   "outputs": [],
   "source": [
    "prediction3=model.predict(list2)"
   ]
  },
  {
   "cell_type": "code",
   "execution_count": null,
   "metadata": {
    "colab": {
     "base_uri": "https://localhost:8080/"
    },
    "id": "n2OkKKSa7QmM",
    "outputId": "2aa2fc57-558f-41f8-e039-fdd2506f3ccb"
   },
   "outputs": [],
   "source": [
    "prediction3"
   ]
  },
  {
   "cell_type": "code",
   "execution_count": null,
   "metadata": {
    "colab": {
     "base_uri": "https://localhost:8080/"
    },
    "id": "smhzuq7G7YeE",
    "outputId": "d41fdcc8-ff17-439e-94cc-3721a90c1d2d"
   },
   "outputs": [],
   "source": [
    "float(prediction3)"
   ]
  },
  {
   "cell_type": "code",
   "execution_count": null,
   "metadata": {
    "colab": {
     "base_uri": "https://localhost:8080/"
    },
    "id": "z_p6uViH7b2C",
    "outputId": "36562259-cdac-4b85-cd23-101c0946ba30"
   },
   "outputs": [],
   "source": [
    "int(prediction3)"
   ]
  },
  {
   "cell_type": "code",
   "execution_count": null,
   "metadata": {
    "id": "0qGuaej57euc"
   },
   "outputs": [],
   "source": [
    "model.save('/content/Fuel Efficiency\\model.h5')"
   ]
  },
  {
   "cell_type": "code",
   "execution_count": null,
   "metadata": {
    "id": "VNvpmRyT73hC"
   },
   "outputs": [],
   "source": []
  }
 ],
 "metadata": {
  "colab": {
   "authorship_tag": "ABX9TyNJDWFCGFZzWpZTQOcr+nKB",
   "collapsed_sections": [],
   "include_colab_link": true,
   "name": "Fuel Efficiency prediction using Deep Learning.ipynb",
   "provenance": []
  },
  "kernelspec": {
   "display_name": "Python 3 (ipykernel)",
   "language": "python",
   "name": "python3"
  },
  "language_info": {
   "codemirror_mode": {
    "name": "ipython",
    "version": 3
   },
   "file_extension": ".py",
   "mimetype": "text/x-python",
   "name": "python",
   "nbconvert_exporter": "python",
   "pygments_lexer": "ipython3",
   "version": "3.11.5"
  }
 },
 "nbformat": 4,
 "nbformat_minor": 1
}
